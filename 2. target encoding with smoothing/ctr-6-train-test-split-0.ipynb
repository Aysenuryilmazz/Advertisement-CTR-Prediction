{
 "cells": [
  {
   "cell_type": "code",
   "execution_count": 1,
   "metadata": {
    "_cell_guid": "b1076dfc-b9ad-4769-8c92-a6c4dae69d19",
    "_uuid": "8f2839f25d086af736a60e9eeb907d3b93b6e0e5",
    "execution": {
     "iopub.execute_input": "2020-09-28T20:32:44.267966Z",
     "iopub.status.busy": "2020-09-28T20:32:44.267178Z",
     "iopub.status.idle": "2020-09-28T20:32:45.363743Z",
     "shell.execute_reply": "2020-09-28T20:32:45.362999Z"
    },
    "papermill": {
     "duration": 1.112498,
     "end_time": "2020-09-28T20:32:45.363859",
     "exception": false,
     "start_time": "2020-09-28T20:32:44.251361",
     "status": "completed"
    },
    "tags": []
   },
   "outputs": [],
   "source": [
    "# import packages\n",
    "import csv\n",
    "import pandas as pd\n",
    "import numpy as np\n",
    "import matplotlib.pyplot as plt\n",
    "from sklearn.preprocessing import LabelEncoder\n",
    "import seaborn as sns\n",
    "import pickle\n",
    "import gzip\n",
    "import json"
   ]
  },
  {
   "cell_type": "code",
   "execution_count": 2,
   "metadata": {
    "_cell_guid": "79c7e3d0-c299-4dcb-8224-4455121ee9b0",
    "_uuid": "d629ff2d2480ee46fbb7e2d37f6b5fab8052498a",
    "execution": {
     "iopub.execute_input": "2020-09-28T20:32:45.388177Z",
     "iopub.status.busy": "2020-09-28T20:32:45.387342Z",
     "iopub.status.idle": "2020-09-28T20:32:48.794142Z",
     "shell.execute_reply": "2020-09-28T20:32:48.794674Z"
    },
    "papermill": {
     "duration": 3.421397,
     "end_time": "2020-09-28T20:32:48.794882",
     "exception": false,
     "start_time": "2020-09-28T20:32:45.373485",
     "status": "completed"
    },
    "tags": []
   },
   "outputs": [],
   "source": [
    "with open('../input/ctr-read-data/merged_df.pkl', 'rb') as inputfile:\n",
    "    merged_df = pickle.load(inputfile)"
   ]
  },
  {
   "cell_type": "code",
   "execution_count": 3,
   "metadata": {
    "execution": {
     "iopub.execute_input": "2020-09-28T20:32:48.822971Z",
     "iopub.status.busy": "2020-09-28T20:32:48.822257Z",
     "iopub.status.idle": "2020-09-28T20:32:48.825957Z",
     "shell.execute_reply": "2020-09-28T20:32:48.825381Z"
    },
    "papermill": {
     "duration": 0.021934,
     "end_time": "2020-09-28T20:32:48.826070",
     "exception": false,
     "start_time": "2020-09-28T20:32:48.804136",
     "status": "completed"
    },
    "tags": []
   },
   "outputs": [],
   "source": [
    "train_df = merged_df.loc[:40000000, :]\n",
    "test_df = merged_df.loc[40000001:, :]"
   ]
  },
  {
   "cell_type": "code",
   "execution_count": 4,
   "metadata": {
    "execution": {
     "iopub.execute_input": "2020-09-28T20:32:48.861805Z",
     "iopub.status.busy": "2020-09-28T20:32:48.860591Z",
     "iopub.status.idle": "2020-09-28T20:32:48.867266Z",
     "shell.execute_reply": "2020-09-28T20:32:48.867853Z"
    },
    "papermill": {
     "duration": 0.032813,
     "end_time": "2020-09-28T20:32:48.868045",
     "exception": false,
     "start_time": "2020-09-28T20:32:48.835232",
     "status": "completed"
    },
    "tags": []
   },
   "outputs": [],
   "source": [
    "def calc_smooth_mean(df, col, label, mean_label, weight):\n",
    "    # Compute the number of values and the mean of each group\n",
    "    agg = df.groupby(col)[label].agg(['count', 'mean'])\n",
    "    counts = agg['count']\n",
    "    means = agg['mean']\n",
    "\n",
    "    # Compute the \"smoothed\" means\n",
    "    smooth = (counts * means + weight * mean_label) / (counts + weight)\n",
    "\n",
    "    mapping_dict = {key:value for key,value in zip(smooth.index.tolist(),smooth.values.tolist())}\n",
    "    # Replace each value by the according smoothed mean and return mapping dict\n",
    "    return df[col].map(smooth), mapping_dict"
   ]
  },
  {
   "cell_type": "code",
   "execution_count": 5,
   "metadata": {
    "execution": {
     "iopub.execute_input": "2020-09-28T20:32:48.901413Z",
     "iopub.status.busy": "2020-09-28T20:32:48.900521Z",
     "iopub.status.idle": "2020-09-28T20:33:59.474825Z",
     "shell.execute_reply": "2020-09-28T20:33:59.474192Z"
    },
    "papermill": {
     "duration": 70.596862,
     "end_time": "2020-09-28T20:33:59.475007",
     "exception": false,
     "start_time": "2020-09-28T20:32:48.878145",
     "status": "completed"
    },
    "tags": []
   },
   "outputs": [
    {
     "name": "stderr",
     "output_type": "stream",
     "text": [
      "/opt/conda/lib/python3.7/site-packages/ipykernel_launcher.py:8: SettingWithCopyWarning: \n",
      "A value is trying to be set on a copy of a slice from a DataFrame.\n",
      "Try using .loc[row_indexer,col_indexer] = value instead\n",
      "\n",
      "See the caveats in the documentation: https://pandas.pydata.org/pandas-docs/stable/user_guide/indexing.html#returning-a-view-versus-a-copy\n",
      "  \n"
     ]
    }
   ],
   "source": [
    "# Compute the global mean\n",
    "mean_label = train_df[\"label\"].mean()\n",
    "list_mapping_dict = []\n",
    "\n",
    "for col in train_df.columns.tolist():\n",
    "    encoded, mapping_dict = calc_smooth_mean(train_df, col, \"label\", mean_label, 300)\n",
    "    downcasted = pd.to_numeric(encoded , downcast='float')\n",
    "    train_df[col+'_tenc'] = downcasted\n",
    "    list_mapping_dict.append(mapping_dict)"
   ]
  },
  {
   "cell_type": "code",
   "execution_count": 6,
   "metadata": {
    "execution": {
     "iopub.execute_input": "2020-09-28T20:33:59.503150Z",
     "iopub.status.busy": "2020-09-28T20:33:59.502453Z",
     "iopub.status.idle": "2020-09-28T20:34:04.025766Z",
     "shell.execute_reply": "2020-09-28T20:34:04.025116Z"
    },
    "papermill": {
     "duration": 4.54016,
     "end_time": "2020-09-28T20:34:04.025874",
     "exception": false,
     "start_time": "2020-09-28T20:33:59.485714",
     "status": "completed"
    },
    "tags": []
   },
   "outputs": [
    {
     "name": "stdout",
     "output_type": "stream",
     "text": [
      "label 0\n",
      "uid 0\n",
      "task_id 0\n",
      "adv_id 0\n",
      "creat_type_cd 0\n",
      "adv_prim_id 0\n",
      "dev_id 0\n",
      "inter_type_cd 0\n",
      "slot_id 0\n",
      "spread_app_id 0\n",
      "tags 0\n",
      "app_first_class 0\n",
      "app_second_class 0\n",
      "age 0\n",
      "city 0\n",
      "city_rank 0\n",
      "device_name 0\n",
      "device_size 0\n",
      "career 0\n",
      "gender 0\n",
      "net_type 0\n",
      "residence 0\n",
      "his_app_size 0\n",
      "his_on_shelf_time 0\n",
      "app_score 0\n",
      "emui_dev 0\n",
      "list_time 0\n",
      "device_price 0\n",
      "up_life_duration 0\n",
      "up_membership_grade 0\n",
      "membership_life_duration 0\n",
      "consume_purchase 0\n",
      "communication_onlinerate 0\n",
      "communication_avgonline_30d 0\n",
      "indu_name 0\n",
      "pt_d 0\n",
      "label_tenc 0\n",
      "uid_tenc 0\n",
      "task_id_tenc 0\n",
      "adv_id_tenc 0\n",
      "creat_type_cd_tenc 0\n",
      "adv_prim_id_tenc 0\n",
      "dev_id_tenc 0\n",
      "inter_type_cd_tenc 0\n",
      "slot_id_tenc 0\n",
      "spread_app_id_tenc 0\n",
      "tags_tenc 0\n",
      "app_first_class_tenc 0\n",
      "app_second_class_tenc 0\n",
      "age_tenc 0\n",
      "city_tenc 0\n",
      "city_rank_tenc 0\n",
      "device_name_tenc 0\n",
      "device_size_tenc 0\n",
      "career_tenc 0\n",
      "gender_tenc 0\n",
      "net_type_tenc 0\n",
      "residence_tenc 0\n",
      "his_app_size_tenc 0\n",
      "his_on_shelf_time_tenc 0\n",
      "app_score_tenc 0\n",
      "emui_dev_tenc 0\n",
      "list_time_tenc 0\n",
      "device_price_tenc 0\n",
      "up_life_duration_tenc 0\n",
      "up_membership_grade_tenc 0\n",
      "membership_life_duration_tenc 0\n",
      "consume_purchase_tenc 0\n",
      "communication_onlinerate_tenc 0\n",
      "communication_avgonline_30d_tenc 0\n",
      "indu_name_tenc 0\n",
      "pt_d_tenc 0\n"
     ]
    }
   ],
   "source": [
    "for col in train_df.columns:\n",
    "    print(col, train_df[col].isnull().sum())"
   ]
  },
  {
   "cell_type": "code",
   "execution_count": 7,
   "metadata": {
    "execution": {
     "iopub.execute_input": "2020-09-28T20:34:04.068980Z",
     "iopub.status.busy": "2020-09-28T20:34:04.068286Z",
     "iopub.status.idle": "2020-09-28T20:34:06.745887Z",
     "shell.execute_reply": "2020-09-28T20:34:06.745263Z"
    },
    "papermill": {
     "duration": 2.703286,
     "end_time": "2020-09-28T20:34:06.746052",
     "exception": false,
     "start_time": "2020-09-28T20:34:04.042766",
     "status": "completed"
    },
    "tags": []
   },
   "outputs": [
    {
     "name": "stderr",
     "output_type": "stream",
     "text": [
      "/opt/conda/lib/python3.7/site-packages/ipykernel_launcher.py:4: SettingWithCopyWarning: \n",
      "A value is trying to be set on a copy of a slice from a DataFrame.\n",
      "Try using .loc[row_indexer,col_indexer] = value instead\n",
      "\n",
      "See the caveats in the documentation: https://pandas.pydata.org/pandas-docs/stable/user_guide/indexing.html#returning-a-view-versus-a-copy\n",
      "  after removing the cwd from sys.path.\n"
     ]
    }
   ],
   "source": [
    "for i, col in enumerate(test_df.columns.tolist()):\n",
    "    encoded=test_df[col].map(list_mapping_dict[i])\n",
    "    downcasted = pd.to_numeric(encoded , downcast='float')\n",
    "    test_df[col+'_tenc']=downcasted"
   ]
  },
  {
   "cell_type": "code",
   "execution_count": 8,
   "metadata": {
    "execution": {
     "iopub.execute_input": "2020-09-28T20:34:06.787600Z",
     "iopub.status.busy": "2020-09-28T20:34:06.786923Z",
     "iopub.status.idle": "2020-09-28T20:34:08.215658Z",
     "shell.execute_reply": "2020-09-28T20:34:08.216296Z"
    },
    "papermill": {
     "duration": 1.452773,
     "end_time": "2020-09-28T20:34:08.216527",
     "exception": false,
     "start_time": "2020-09-28T20:34:06.763754",
     "status": "completed"
    },
    "tags": []
   },
   "outputs": [
    {
     "name": "stdout",
     "output_type": "stream",
     "text": [
      "label 0 2\n",
      "uid 0 575695\n",
      "task_id 0 3829\n",
      "adv_id 0 4533\n",
      "creat_type_cd 0 8\n",
      "adv_prim_id 0 101\n",
      "dev_id 0 55\n",
      "inter_type_cd 0 4\n",
      "slot_id 0 12\n",
      "spread_app_id 0 69\n",
      "tags 0 30\n",
      "app_first_class 0 3\n",
      "app_second_class 0 19\n",
      "age 0 8\n",
      "city 0 344\n",
      "city_rank 0 4\n",
      "device_name 0 88\n",
      "device_size 0 161\n",
      "career 0 9\n",
      "gender 0 3\n",
      "net_type 0 5\n",
      "residence 0 36\n",
      "his_app_size 0 21\n",
      "his_on_shelf_time 0 4\n",
      "app_score 0 2\n",
      "emui_dev 0 16\n",
      "list_time 0 17\n",
      "device_price 0 7\n",
      "up_life_duration 0 21\n",
      "up_membership_grade 0 4\n",
      "membership_life_duration 0 17\n",
      "consume_purchase 0 9\n",
      "communication_onlinerate 0 1377\n",
      "communication_avgonline_30d 0 14\n",
      "indu_name 0 38\n",
      "pt_d 0 7\n",
      "label_tenc 0 2\n",
      "uid_tenc 1839 6288\n",
      "task_id_tenc 3 3465\n",
      "adv_id_tenc 3 3775\n",
      "creat_type_cd_tenc 0 8\n",
      "adv_prim_id_tenc 0 101\n",
      "dev_id_tenc 0 55\n",
      "inter_type_cd_tenc 0 4\n",
      "slot_id_tenc 0 12\n",
      "spread_app_id_tenc 0 69\n",
      "tags_tenc 0 30\n",
      "app_first_class_tenc 0 3\n",
      "app_second_class_tenc 0 19\n",
      "age_tenc 0 8\n",
      "city_tenc 0 344\n",
      "city_rank_tenc 0 4\n",
      "device_name_tenc 0 88\n",
      "device_size_tenc 1 156\n",
      "career_tenc 0 9\n",
      "gender_tenc 0 3\n",
      "net_type_tenc 0 5\n",
      "residence_tenc 0 36\n",
      "his_app_size_tenc 0 21\n",
      "his_on_shelf_time_tenc 0 4\n",
      "app_score_tenc 0 2\n",
      "emui_dev_tenc 0 16\n",
      "list_time_tenc 0 17\n",
      "device_price_tenc 0 7\n",
      "up_life_duration_tenc 0 21\n",
      "up_membership_grade_tenc 0 4\n",
      "membership_life_duration_tenc 0 17\n",
      "consume_purchase_tenc 0 9\n",
      "communication_onlinerate_tenc 25 598\n",
      "communication_avgonline_30d_tenc 0 14\n",
      "indu_name_tenc 0 38\n",
      "pt_d_tenc 0 7\n"
     ]
    }
   ],
   "source": [
    "for col in test_df.columns:\n",
    "    print(col, test_df[col].isnull().sum(), test_df[col].nunique())"
   ]
  },
  {
   "cell_type": "code",
   "execution_count": 9,
   "metadata": {
    "execution": {
     "iopub.execute_input": "2020-09-28T20:34:08.262524Z",
     "iopub.status.busy": "2020-09-28T20:34:08.261766Z",
     "iopub.status.idle": "2020-09-28T20:36:45.817102Z",
     "shell.execute_reply": "2020-09-28T20:36:45.816338Z"
    },
    "papermill": {
     "duration": 157.580201,
     "end_time": "2020-09-28T20:36:45.817230",
     "exception": false,
     "start_time": "2020-09-28T20:34:08.237029",
     "status": "completed"
    },
    "tags": []
   },
   "outputs": [],
   "source": [
    "test_df.to_csv(\"test_df.csv\")"
   ]
  },
  {
   "cell_type": "code",
   "execution_count": 10,
   "metadata": {
    "execution": {
     "iopub.execute_input": "2020-09-28T20:36:45.869229Z",
     "iopub.status.busy": "2020-09-28T20:36:45.868555Z",
     "iopub.status.idle": "2020-09-28T20:36:45.886005Z",
     "shell.execute_reply": "2020-09-28T20:36:45.885429Z"
    },
    "papermill": {
     "duration": 0.047784,
     "end_time": "2020-09-28T20:36:45.886115",
     "exception": false,
     "start_time": "2020-09-28T20:36:45.838331",
     "status": "completed"
    },
    "tags": []
   },
   "outputs": [
    {
     "name": "stdout",
     "output_type": "stream",
     "text": [
      "<class 'pandas.core.frame.DataFrame'>\n",
      "RangeIndex: 1907132 entries, 40000001 to 41907132\n",
      "Data columns (total 72 columns):\n",
      " #   Column                            Dtype   \n",
      "---  ------                            -----   \n",
      " 0   label                             int8    \n",
      " 1   uid                               int32   \n",
      " 2   task_id                           int16   \n",
      " 3   adv_id                            int16   \n",
      " 4   creat_type_cd                     int8    \n",
      " 5   adv_prim_id                       int16   \n",
      " 6   dev_id                            int8    \n",
      " 7   inter_type_cd                     int8    \n",
      " 8   slot_id                           int8    \n",
      " 9   spread_app_id                     int8    \n",
      " 10  tags                              int8    \n",
      " 11  app_first_class                   int8    \n",
      " 12  app_second_class                  int8    \n",
      " 13  age                               int8    \n",
      " 14  city                              int16   \n",
      " 15  city_rank                         int8    \n",
      " 16  device_name                       int8    \n",
      " 17  device_size                       int16   \n",
      " 18  career                            int8    \n",
      " 19  gender                            int8    \n",
      " 20  net_type                          int8    \n",
      " 21  residence                         int8    \n",
      " 22  his_app_size                      int8    \n",
      " 23  his_on_shelf_time                 int8    \n",
      " 24  app_score                         int8    \n",
      " 25  emui_dev                          int8    \n",
      " 26  list_time                         int8    \n",
      " 27  device_price                      int8    \n",
      " 28  up_life_duration                  int8    \n",
      " 29  up_membership_grade               int8    \n",
      " 30  membership_life_duration          int8    \n",
      " 31  consume_purchase                  int8    \n",
      " 32  communication_onlinerate          category\n",
      " 33  communication_avgonline_30d       int8    \n",
      " 34  indu_name                         int8    \n",
      " 35  pt_d                              int8    \n",
      " 36  label_tenc                        float32 \n",
      " 37  uid_tenc                          float32 \n",
      " 38  task_id_tenc                      float32 \n",
      " 39  adv_id_tenc                       float32 \n",
      " 40  creat_type_cd_tenc                float32 \n",
      " 41  adv_prim_id_tenc                  float32 \n",
      " 42  dev_id_tenc                       float32 \n",
      " 43  inter_type_cd_tenc                float32 \n",
      " 44  slot_id_tenc                      float32 \n",
      " 45  spread_app_id_tenc                float32 \n",
      " 46  tags_tenc                         float32 \n",
      " 47  app_first_class_tenc              float32 \n",
      " 48  app_second_class_tenc             float32 \n",
      " 49  age_tenc                          float32 \n",
      " 50  city_tenc                         float32 \n",
      " 51  city_rank_tenc                    float32 \n",
      " 52  device_name_tenc                  float32 \n",
      " 53  device_size_tenc                  float32 \n",
      " 54  career_tenc                       float32 \n",
      " 55  gender_tenc                       float32 \n",
      " 56  net_type_tenc                     float32 \n",
      " 57  residence_tenc                    float32 \n",
      " 58  his_app_size_tenc                 float32 \n",
      " 59  his_on_shelf_time_tenc            float32 \n",
      " 60  app_score_tenc                    float32 \n",
      " 61  emui_dev_tenc                     float32 \n",
      " 62  list_time_tenc                    float32 \n",
      " 63  device_price_tenc                 float32 \n",
      " 64  up_life_duration_tenc             float32 \n",
      " 65  up_membership_grade_tenc          float32 \n",
      " 66  membership_life_duration_tenc     float32 \n",
      " 67  consume_purchase_tenc             float32 \n",
      " 68  communication_onlinerate_tenc     float32 \n",
      " 69  communication_avgonline_30d_tenc  float32 \n",
      " 70  indu_name_tenc                    float32 \n",
      " 71  pt_d_tenc                         float32 \n",
      "dtypes: category(1), float32(36), int16(5), int32(1), int8(29)\n",
      "memory usage: 343.9 MB\n"
     ]
    }
   ],
   "source": [
    "test_df.info()"
   ]
  },
  {
   "cell_type": "code",
   "execution_count": 11,
   "metadata": {
    "execution": {
     "iopub.execute_input": "2020-09-28T20:36:45.937220Z",
     "iopub.status.busy": "2020-09-28T20:36:45.935544Z",
     "iopub.status.idle": "2020-09-28T20:36:50.338353Z",
     "shell.execute_reply": "2020-09-28T20:36:50.337740Z"
    },
    "papermill": {
     "duration": 4.431399,
     "end_time": "2020-09-28T20:36:50.338482",
     "exception": false,
     "start_time": "2020-09-28T20:36:45.907083",
     "status": "completed"
    },
    "tags": []
   },
   "outputs": [],
   "source": [
    "# export mapping dict for datatypes\n",
    "test_df.dtypes.to_csv(\"dtype_mapping.csv\")\n",
    "\n",
    "# export mapping dict for target encoding\n",
    "with open('list_mapping_dict.json', 'w') as f:\n",
    "    json.dump(list_mapping_dict, f)"
   ]
  },
  {
   "cell_type": "code",
   "execution_count": 12,
   "metadata": {
    "execution": {
     "iopub.execute_input": "2020-09-28T20:36:50.459512Z",
     "iopub.status.busy": "2020-09-28T20:36:50.458547Z",
     "iopub.status.idle": "2020-09-28T22:15:26.581694Z",
     "shell.execute_reply": "2020-09-28T22:15:26.582780Z"
    },
    "papermill": {
     "duration": 5916.224197,
     "end_time": "2020-09-28T22:15:26.583608",
     "exception": false,
     "start_time": "2020-09-28T20:36:50.359411",
     "status": "completed"
    },
    "tags": []
   },
   "outputs": [],
   "source": [
    "with gzip.open('train_df.pkl', 'wb') as outputfile:\n",
    "    pickle.dump(train_df, outputfile, protocol=-1)\n",
    "    \n",
    "with gzip.open('test_df.pkl', 'wb') as outputfile2:\n",
    "    pickle.dump(test_df, outputfile2, protocol=-1)"
   ]
  }
 ],
 "metadata": {
  "kernelspec": {
   "display_name": "Python 3",
   "language": "python",
   "name": "python3"
  },
  "language_info": {
   "codemirror_mode": {
    "name": "ipython",
    "version": 3
   },
   "file_extension": ".py",
   "mimetype": "text/x-python",
   "name": "python",
   "nbconvert_exporter": "python",
   "pygments_lexer": "ipython3",
   "version": "3.7.6"
  },
  "papermill": {
   "duration": 6167.883585,
   "end_time": "2020-09-28T22:15:27.667135",
   "environment_variables": {},
   "exception": null,
   "input_path": "__notebook__.ipynb",
   "output_path": "__notebook__.ipynb",
   "parameters": {},
   "start_time": "2020-09-28T20:32:39.783550",
   "version": "2.1.0"
  }
 },
 "nbformat": 4,
 "nbformat_minor": 4
}
