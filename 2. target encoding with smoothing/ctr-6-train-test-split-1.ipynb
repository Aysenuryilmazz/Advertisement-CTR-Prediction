{
 "cells": [
  {
   "cell_type": "code",
   "execution_count": 1,
   "metadata": {
    "_cell_guid": "b1076dfc-b9ad-4769-8c92-a6c4dae69d19",
    "_uuid": "8f2839f25d086af736a60e9eeb907d3b93b6e0e5",
    "execution": {
     "iopub.execute_input": "2020-09-14T20:29:29.545942Z",
     "iopub.status.busy": "2020-09-14T20:29:29.545196Z",
     "iopub.status.idle": "2020-09-14T20:29:30.723486Z",
     "shell.execute_reply": "2020-09-14T20:29:30.722796Z"
    },
    "papermill": {
     "duration": 1.187977,
     "end_time": "2020-09-14T20:29:30.723624",
     "exception": false,
     "start_time": "2020-09-14T20:29:29.535647",
     "status": "completed"
    },
    "tags": []
   },
   "outputs": [],
   "source": [
    "# import packages\n",
    "import csv\n",
    "import pandas as pd\n",
    "import numpy as np\n",
    "import matplotlib.pyplot as plt\n",
    "from sklearn.preprocessing import LabelEncoder\n",
    "import seaborn as sns\n",
    "import pickle\n",
    "import gzip"
   ]
  },
  {
   "cell_type": "code",
   "execution_count": 2,
   "metadata": {
    "_cell_guid": "79c7e3d0-c299-4dcb-8224-4455121ee9b0",
    "_uuid": "d629ff2d2480ee46fbb7e2d37f6b5fab8052498a",
    "collapsed": true,
    "execution": {
     "iopub.execute_input": "2020-09-14T20:29:30.742622Z",
     "iopub.status.busy": "2020-09-14T20:29:30.741617Z",
     "iopub.status.idle": "2020-09-14T20:29:37.085974Z",
     "shell.execute_reply": "2020-09-14T20:29:37.085249Z"
    },
    "papermill": {
     "duration": 6.355581,
     "end_time": "2020-09-14T20:29:37.086105",
     "exception": false,
     "start_time": "2020-09-14T20:29:30.730524",
     "status": "completed"
    },
    "tags": []
   },
   "outputs": [],
   "source": [
    "with open('../input/ctr-read-data/merged_df.pkl', 'rb') as inputfile:\n",
    "    merged_df = pickle.load(inputfile)"
   ]
  },
  {
   "cell_type": "code",
   "execution_count": 3,
   "metadata": {
    "execution": {
     "iopub.execute_input": "2020-09-14T20:29:37.108837Z",
     "iopub.status.busy": "2020-09-14T20:29:37.108146Z",
     "iopub.status.idle": "2020-09-14T20:29:37.111950Z",
     "shell.execute_reply": "2020-09-14T20:29:37.111339Z"
    },
    "papermill": {
     "duration": 0.019712,
     "end_time": "2020-09-14T20:29:37.112073",
     "exception": false,
     "start_time": "2020-09-14T20:29:37.092361",
     "status": "completed"
    },
    "tags": []
   },
   "outputs": [],
   "source": [
    "train_df = merged_df.loc[:40000000, :]\n",
    "test_df = merged_df.loc[40000001:, :]"
   ]
  },
  {
   "cell_type": "code",
   "execution_count": 4,
   "metadata": {
    "execution": {
     "iopub.execute_input": "2020-09-14T20:29:37.128332Z",
     "iopub.status.busy": "2020-09-14T20:29:37.127623Z",
     "iopub.status.idle": "2020-09-14T20:29:37.137529Z",
     "shell.execute_reply": "2020-09-14T20:29:37.136820Z"
    },
    "papermill": {
     "duration": 0.019285,
     "end_time": "2020-09-14T20:29:37.137649",
     "exception": false,
     "start_time": "2020-09-14T20:29:37.118364",
     "status": "completed"
    },
    "tags": []
   },
   "outputs": [],
   "source": [
    "def calc_smooth_mean(df, col, label, mean_label, weight):\n",
    "    # Compute the number of values and the mean of each group\n",
    "    agg = df.groupby(col)[label].agg(['count', 'mean'])\n",
    "    counts = agg['count']\n",
    "    means = agg['mean']\n",
    "\n",
    "    # Compute the \"smoothed\" means\n",
    "    smooth = (counts * means + weight * mean_label) / (counts + weight)\n",
    "\n",
    "    mapping_dict = {key:value for key,value in zip(smooth.index.tolist(),smooth.values.tolist())}\n",
    "    # Replace each value by the according smoothed mean and return mapping dict\n",
    "    return df[col].map(smooth), mapping_dict"
   ]
  },
  {
   "cell_type": "code",
   "execution_count": 5,
   "metadata": {
    "execution": {
     "iopub.execute_input": "2020-09-14T20:29:37.158987Z",
     "iopub.status.busy": "2020-09-14T20:29:37.158194Z",
     "iopub.status.idle": "2020-09-14T20:30:54.274884Z",
     "shell.execute_reply": "2020-09-14T20:30:54.274260Z"
    },
    "papermill": {
     "duration": 77.130823,
     "end_time": "2020-09-14T20:30:54.275018",
     "exception": false,
     "start_time": "2020-09-14T20:29:37.144195",
     "status": "completed"
    },
    "tags": []
   },
   "outputs": [
    {
     "name": "stderr",
     "output_type": "stream",
     "text": [
      "/opt/conda/lib/python3.7/site-packages/ipykernel_launcher.py:8: SettingWithCopyWarning: \n",
      "A value is trying to be set on a copy of a slice from a DataFrame.\n",
      "Try using .loc[row_indexer,col_indexer] = value instead\n",
      "\n",
      "See the caveats in the documentation: https://pandas.pydata.org/pandas-docs/stable/user_guide/indexing.html#returning-a-view-versus-a-copy\n",
      "  \n"
     ]
    }
   ],
   "source": [
    "# Compute the global mean\n",
    "mean_label = train_df[\"label\"].mean()\n",
    "list_mapping_dict = []\n",
    "\n",
    "for col in train_df.columns.tolist():\n",
    "    encoded, mapping_dict = calc_smooth_mean(train_df, col, \"label\", mean_label, 300)\n",
    "    downcasted = pd.to_numeric(encoded , downcast='float')\n",
    "    train_df[col+'_tenc'] = downcasted\n",
    "    list_mapping_dict.append(mapping_dict)"
   ]
  },
  {
   "cell_type": "code",
   "execution_count": 6,
   "metadata": {
    "execution": {
     "iopub.execute_input": "2020-09-14T20:30:54.296020Z",
     "iopub.status.busy": "2020-09-14T20:30:54.295218Z",
     "iopub.status.idle": "2020-09-14T20:30:54.298001Z",
     "shell.execute_reply": "2020-09-14T20:30:54.297415Z"
    },
    "papermill": {
     "duration": 0.015336,
     "end_time": "2020-09-14T20:30:54.298114",
     "exception": false,
     "start_time": "2020-09-14T20:30:54.282778",
     "status": "completed"
    },
    "tags": []
   },
   "outputs": [],
   "source": [
    "train_df1 = train_df.loc[:5000000,:]"
   ]
  },
  {
   "cell_type": "code",
   "execution_count": 7,
   "metadata": {
    "execution": {
     "iopub.execute_input": "2020-09-14T20:30:54.317615Z",
     "iopub.status.busy": "2020-09-14T20:30:54.316965Z",
     "iopub.status.idle": "2020-09-14T20:37:56.317723Z",
     "shell.execute_reply": "2020-09-14T20:37:56.316884Z"
    },
    "papermill": {
     "duration": 422.01281,
     "end_time": "2020-09-14T20:37:56.317881",
     "exception": false,
     "start_time": "2020-09-14T20:30:54.305071",
     "status": "completed"
    },
    "tags": []
   },
   "outputs": [],
   "source": [
    "train_df1.to_csv(\"train_df1.csv\")"
   ]
  }
 ],
 "metadata": {
  "kernelspec": {
   "display_name": "Python 3",
   "language": "python",
   "name": "python3"
  },
  "language_info": {
   "codemirror_mode": {
    "name": "ipython",
    "version": 3
   },
   "file_extension": ".py",
   "mimetype": "text/x-python",
   "name": "python",
   "nbconvert_exporter": "python",
   "pygments_lexer": "ipython3",
   "version": "3.7.6"
  },
  "papermill": {
   "duration": 511.85721,
   "end_time": "2020-09-14T20:37:56.534626",
   "environment_variables": {},
   "exception": null,
   "input_path": "__notebook__.ipynb",
   "output_path": "__notebook__.ipynb",
   "parameters": {},
   "start_time": "2020-09-14T20:29:24.677416",
   "version": "2.1.0"
  }
 },
 "nbformat": 4,
 "nbformat_minor": 4
}
