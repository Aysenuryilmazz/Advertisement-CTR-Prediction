{
 "cells": [
  {
   "cell_type": "code",
   "execution_count": 1,
   "metadata": {
    "_cell_guid": "b1076dfc-b9ad-4769-8c92-a6c4dae69d19",
    "_uuid": "8f2839f25d086af736a60e9eeb907d3b93b6e0e5",
    "execution": {
     "iopub.execute_input": "2020-09-14T21:03:24.685803Z",
     "iopub.status.busy": "2020-09-14T21:03:24.684951Z",
     "iopub.status.idle": "2020-09-14T21:03:25.759343Z",
     "shell.execute_reply": "2020-09-14T21:03:25.758532Z"
    },
    "papermill": {
     "duration": 1.08697,
     "end_time": "2020-09-14T21:03:25.759471",
     "exception": false,
     "start_time": "2020-09-14T21:03:24.672501",
     "status": "completed"
    },
    "tags": []
   },
   "outputs": [],
   "source": [
    "# import packages\n",
    "import csv\n",
    "import pandas as pd\n",
    "import numpy as np\n",
    "import matplotlib.pyplot as plt\n",
    "from sklearn.preprocessing import LabelEncoder\n",
    "import seaborn as sns\n",
    "import pickle\n",
    "import gzip"
   ]
  },
  {
   "cell_type": "code",
   "execution_count": 2,
   "metadata": {
    "_cell_guid": "79c7e3d0-c299-4dcb-8224-4455121ee9b0",
    "_uuid": "d629ff2d2480ee46fbb7e2d37f6b5fab8052498a",
    "collapsed": true,
    "execution": {
     "iopub.execute_input": "2020-09-14T21:03:25.778281Z",
     "iopub.status.busy": "2020-09-14T21:03:25.776972Z",
     "iopub.status.idle": "2020-09-14T21:03:34.958302Z",
     "shell.execute_reply": "2020-09-14T21:03:34.954668Z"
    },
    "papermill": {
     "duration": 9.192675,
     "end_time": "2020-09-14T21:03:34.958877",
     "exception": false,
     "start_time": "2020-09-14T21:03:25.766202",
     "status": "completed"
    },
    "tags": []
   },
   "outputs": [],
   "source": [
    "with open('../input/ctr-read-data/merged_df.pkl', 'rb') as inputfile:\n",
    "    merged_df = pickle.load(inputfile)"
   ]
  },
  {
   "cell_type": "code",
   "execution_count": 3,
   "metadata": {
    "execution": {
     "iopub.execute_input": "2020-09-14T21:03:35.042737Z",
     "iopub.status.busy": "2020-09-14T21:03:35.037825Z",
     "iopub.status.idle": "2020-09-14T21:03:35.052156Z",
     "shell.execute_reply": "2020-09-14T21:03:35.047564Z"
    },
    "papermill": {
     "duration": 0.069918,
     "end_time": "2020-09-14T21:03:35.052773",
     "exception": false,
     "start_time": "2020-09-14T21:03:34.982855",
     "status": "completed"
    },
    "tags": []
   },
   "outputs": [],
   "source": [
    "train_df = merged_df.loc[:40000000, :]\n",
    "test_df = merged_df.loc[40000001:, :]"
   ]
  },
  {
   "cell_type": "code",
   "execution_count": 4,
   "metadata": {
    "execution": {
     "iopub.execute_input": "2020-09-14T21:03:35.141616Z",
     "iopub.status.busy": "2020-09-14T21:03:35.135300Z",
     "iopub.status.idle": "2020-09-14T21:03:35.154018Z",
     "shell.execute_reply": "2020-09-14T21:03:35.151874Z"
    },
    "papermill": {
     "duration": 0.07451,
     "end_time": "2020-09-14T21:03:35.154700",
     "exception": false,
     "start_time": "2020-09-14T21:03:35.080190",
     "status": "completed"
    },
    "tags": []
   },
   "outputs": [],
   "source": [
    "def calc_smooth_mean(df, col, label, mean_label, weight):\n",
    "    # Compute the number of values and the mean of each group\n",
    "    agg = df.groupby(col)[label].agg(['count', 'mean'])\n",
    "    counts = agg['count']\n",
    "    means = agg['mean']\n",
    "\n",
    "    # Compute the \"smoothed\" means\n",
    "    smooth = (counts * means + weight * mean_label) / (counts + weight)\n",
    "\n",
    "    mapping_dict = {key:value for key,value in zip(smooth.index.tolist(),smooth.values.tolist())}\n",
    "    # Replace each value by the according smoothed mean and return mapping dict\n",
    "    return df[col].map(smooth), mapping_dict"
   ]
  },
  {
   "cell_type": "code",
   "execution_count": 5,
   "metadata": {
    "execution": {
     "iopub.execute_input": "2020-09-14T21:03:35.246526Z",
     "iopub.status.busy": "2020-09-14T21:03:35.237724Z",
     "iopub.status.idle": "2020-09-14T21:05:09.503082Z",
     "shell.execute_reply": "2020-09-14T21:05:09.502277Z"
    },
    "papermill": {
     "duration": 94.325826,
     "end_time": "2020-09-14T21:05:09.503264",
     "exception": false,
     "start_time": "2020-09-14T21:03:35.177438",
     "status": "completed"
    },
    "tags": []
   },
   "outputs": [
    {
     "name": "stderr",
     "output_type": "stream",
     "text": [
      "/opt/conda/lib/python3.7/site-packages/ipykernel_launcher.py:8: SettingWithCopyWarning: \n",
      "A value is trying to be set on a copy of a slice from a DataFrame.\n",
      "Try using .loc[row_indexer,col_indexer] = value instead\n",
      "\n",
      "See the caveats in the documentation: https://pandas.pydata.org/pandas-docs/stable/user_guide/indexing.html#returning-a-view-versus-a-copy\n",
      "  \n"
     ]
    }
   ],
   "source": [
    "# Compute the global mean\n",
    "mean_label = train_df[\"label\"].mean()\n",
    "list_mapping_dict = []\n",
    "\n",
    "for col in train_df.columns.tolist():\n",
    "    encoded, mapping_dict = calc_smooth_mean(train_df, col, \"label\", mean_label, 300)\n",
    "    downcasted = pd.to_numeric(encoded , downcast='float')\n",
    "    train_df[col+'_tenc'] = downcasted\n",
    "    list_mapping_dict.append(mapping_dict)"
   ]
  },
  {
   "cell_type": "code",
   "execution_count": 6,
   "metadata": {
    "execution": {
     "iopub.execute_input": "2020-09-14T21:05:09.523724Z",
     "iopub.status.busy": "2020-09-14T21:05:09.523039Z",
     "iopub.status.idle": "2020-09-14T21:05:09.526145Z",
     "shell.execute_reply": "2020-09-14T21:05:09.525652Z"
    },
    "papermill": {
     "duration": 0.015464,
     "end_time": "2020-09-14T21:05:09.526283",
     "exception": false,
     "start_time": "2020-09-14T21:05:09.510819",
     "status": "completed"
    },
    "tags": []
   },
   "outputs": [],
   "source": [
    "train_df4 = train_df.loc[15000001:20000000,:]"
   ]
  },
  {
   "cell_type": "code",
   "execution_count": 7,
   "metadata": {
    "execution": {
     "iopub.execute_input": "2020-09-14T21:05:09.545482Z",
     "iopub.status.busy": "2020-09-14T21:05:09.544830Z",
     "iopub.status.idle": "2020-09-14T21:12:09.671212Z",
     "shell.execute_reply": "2020-09-14T21:12:09.670243Z"
    },
    "papermill": {
     "duration": 420.137977,
     "end_time": "2020-09-14T21:12:09.671369",
     "exception": false,
     "start_time": "2020-09-14T21:05:09.533392",
     "status": "completed"
    },
    "tags": []
   },
   "outputs": [],
   "source": [
    "train_df4.to_csv(\"train_df2_5.csv\")"
   ]
  }
 ],
 "metadata": {
  "kernelspec": {
   "display_name": "Python 3",
   "language": "python",
   "name": "python3"
  },
  "language_info": {
   "codemirror_mode": {
    "name": "ipython",
    "version": 3
   },
   "file_extension": ".py",
   "mimetype": "text/x-python",
   "name": "python",
   "nbconvert_exporter": "python",
   "pygments_lexer": "ipython3",
   "version": "3.7.6"
  },
  "papermill": {
   "duration": 529.987691,
   "end_time": "2020-09-14T21:12:09.788147",
   "environment_variables": {},
   "exception": null,
   "input_path": "__notebook__.ipynb",
   "output_path": "__notebook__.ipynb",
   "parameters": {},
   "start_time": "2020-09-14T21:03:19.800456",
   "version": "2.1.0"
  }
 },
 "nbformat": 4,
 "nbformat_minor": 4
}
