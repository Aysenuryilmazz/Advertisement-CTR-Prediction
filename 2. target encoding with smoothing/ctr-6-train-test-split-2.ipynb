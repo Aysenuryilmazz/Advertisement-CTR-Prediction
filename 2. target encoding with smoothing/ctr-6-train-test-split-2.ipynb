{
 "cells": [
  {
   "cell_type": "code",
   "execution_count": 1,
   "metadata": {
    "_cell_guid": "b1076dfc-b9ad-4769-8c92-a6c4dae69d19",
    "_uuid": "8f2839f25d086af736a60e9eeb907d3b93b6e0e5",
    "execution": {
     "iopub.execute_input": "2020-09-14T20:33:26.124537Z",
     "iopub.status.busy": "2020-09-14T20:33:26.123704Z",
     "iopub.status.idle": "2020-09-14T20:33:28.290923Z",
     "shell.execute_reply": "2020-09-14T20:33:28.289937Z"
    },
    "papermill": {
     "duration": 2.183928,
     "end_time": "2020-09-14T20:33:28.291127",
     "exception": false,
     "start_time": "2020-09-14T20:33:26.107199",
     "status": "completed"
    },
    "tags": []
   },
   "outputs": [],
   "source": [
    "# import packages\n",
    "import csv\n",
    "import pandas as pd\n",
    "import numpy as np\n",
    "import matplotlib.pyplot as plt\n",
    "from sklearn.preprocessing import LabelEncoder\n",
    "import seaborn as sns\n",
    "import pickle\n",
    "import gzip"
   ]
  },
  {
   "cell_type": "code",
   "execution_count": 2,
   "metadata": {
    "_cell_guid": "79c7e3d0-c299-4dcb-8224-4455121ee9b0",
    "_uuid": "d629ff2d2480ee46fbb7e2d37f6b5fab8052498a",
    "collapsed": true,
    "execution": {
     "iopub.execute_input": "2020-09-14T20:33:28.313119Z",
     "iopub.status.busy": "2020-09-14T20:33:28.312096Z",
     "iopub.status.idle": "2020-09-14T20:33:37.581586Z",
     "shell.execute_reply": "2020-09-14T20:33:37.580555Z"
    },
    "papermill": {
     "duration": 9.282625,
     "end_time": "2020-09-14T20:33:37.581789",
     "exception": false,
     "start_time": "2020-09-14T20:33:28.299164",
     "status": "completed"
    },
    "tags": []
   },
   "outputs": [],
   "source": [
    "with open('../input/ctr-read-data/merged_df.pkl', 'rb') as inputfile:\n",
    "    merged_df = pickle.load(inputfile)"
   ]
  },
  {
   "cell_type": "code",
   "execution_count": 3,
   "metadata": {
    "execution": {
     "iopub.execute_input": "2020-09-14T20:33:37.611587Z",
     "iopub.status.busy": "2020-09-14T20:33:37.610552Z",
     "iopub.status.idle": "2020-09-14T20:33:37.614914Z",
     "shell.execute_reply": "2020-09-14T20:33:37.614119Z"
    },
    "papermill": {
     "duration": 0.023901,
     "end_time": "2020-09-14T20:33:37.615051",
     "exception": false,
     "start_time": "2020-09-14T20:33:37.591150",
     "status": "completed"
    },
    "tags": []
   },
   "outputs": [],
   "source": [
    "train_df = merged_df.loc[:40000000, :]\n",
    "test_df = merged_df.loc[40000001:, :]"
   ]
  },
  {
   "cell_type": "code",
   "execution_count": 4,
   "metadata": {
    "execution": {
     "iopub.execute_input": "2020-09-14T20:33:37.643344Z",
     "iopub.status.busy": "2020-09-14T20:33:37.642301Z",
     "iopub.status.idle": "2020-09-14T20:33:37.645882Z",
     "shell.execute_reply": "2020-09-14T20:33:37.645173Z"
    },
    "papermill": {
     "duration": 0.023262,
     "end_time": "2020-09-14T20:33:37.646033",
     "exception": false,
     "start_time": "2020-09-14T20:33:37.622771",
     "status": "completed"
    },
    "tags": []
   },
   "outputs": [],
   "source": [
    "def calc_smooth_mean(df, col, label, mean_label, weight):\n",
    "    # Compute the number of values and the mean of each group\n",
    "    agg = df.groupby(col)[label].agg(['count', 'mean'])\n",
    "    counts = agg['count']\n",
    "    means = agg['mean']\n",
    "\n",
    "    # Compute the \"smoothed\" means\n",
    "    smooth = (counts * means + weight * mean_label) / (counts + weight)\n",
    "\n",
    "    mapping_dict = {key:value for key,value in zip(smooth.index.tolist(),smooth.values.tolist())}\n",
    "    # Replace each value by the according smoothed mean and return mapping dict\n",
    "    return df[col].map(smooth), mapping_dict"
   ]
  },
  {
   "cell_type": "code",
   "execution_count": 5,
   "metadata": {
    "execution": {
     "iopub.execute_input": "2020-09-14T20:33:37.672179Z",
     "iopub.status.busy": "2020-09-14T20:33:37.671173Z",
     "iopub.status.idle": "2020-09-14T20:35:02.647220Z",
     "shell.execute_reply": "2020-09-14T20:35:02.646471Z"
    },
    "papermill": {
     "duration": 84.993515,
     "end_time": "2020-09-14T20:35:02.647381",
     "exception": false,
     "start_time": "2020-09-14T20:33:37.653866",
     "status": "completed"
    },
    "tags": []
   },
   "outputs": [
    {
     "name": "stderr",
     "output_type": "stream",
     "text": [
      "/opt/conda/lib/python3.7/site-packages/ipykernel_launcher.py:8: SettingWithCopyWarning: \n",
      "A value is trying to be set on a copy of a slice from a DataFrame.\n",
      "Try using .loc[row_indexer,col_indexer] = value instead\n",
      "\n",
      "See the caveats in the documentation: https://pandas.pydata.org/pandas-docs/stable/user_guide/indexing.html#returning-a-view-versus-a-copy\n",
      "  \n"
     ]
    }
   ],
   "source": [
    "# Compute the global mean\n",
    "mean_label = train_df[\"label\"].mean()\n",
    "list_mapping_dict = []\n",
    "\n",
    "for col in train_df.columns.tolist():\n",
    "    encoded, mapping_dict = calc_smooth_mean(train_df, col, \"label\", mean_label, 300)\n",
    "    downcasted = pd.to_numeric(encoded , downcast='float')\n",
    "    train_df[col+'_tenc'] = downcasted\n",
    "    list_mapping_dict.append(mapping_dict)"
   ]
  },
  {
   "cell_type": "code",
   "execution_count": 6,
   "metadata": {
    "execution": {
     "iopub.execute_input": "2020-09-14T20:35:02.671901Z",
     "iopub.status.busy": "2020-09-14T20:35:02.670909Z",
     "iopub.status.idle": "2020-09-14T20:35:02.674176Z",
     "shell.execute_reply": "2020-09-14T20:35:02.673469Z"
    },
    "papermill": {
     "duration": 0.018068,
     "end_time": "2020-09-14T20:35:02.674304",
     "exception": false,
     "start_time": "2020-09-14T20:35:02.656236",
     "status": "completed"
    },
    "tags": []
   },
   "outputs": [],
   "source": [
    "train_df3 = train_df.loc[10000001:15000000,:]"
   ]
  },
  {
   "cell_type": "code",
   "execution_count": 7,
   "metadata": {
    "execution": {
     "iopub.execute_input": "2020-09-14T20:35:02.698449Z",
     "iopub.status.busy": "2020-09-14T20:35:02.697279Z",
     "iopub.status.idle": "2020-09-14T20:42:27.793328Z",
     "shell.execute_reply": "2020-09-14T20:42:27.792447Z"
    },
    "papermill": {
     "duration": 445.10999,
     "end_time": "2020-09-14T20:42:27.793469",
     "exception": false,
     "start_time": "2020-09-14T20:35:02.683479",
     "status": "completed"
    },
    "tags": []
   },
   "outputs": [],
   "source": [
    "train_df3.to_csv(\"train_df3.csv\")"
   ]
  }
 ],
 "metadata": {
  "kernelspec": {
   "display_name": "Python 3",
   "language": "python",
   "name": "python3"
  },
  "language_info": {
   "codemirror_mode": {
    "name": "ipython",
    "version": 3
   },
   "file_extension": ".py",
   "mimetype": "text/x-python",
   "name": "python",
   "nbconvert_exporter": "python",
   "pygments_lexer": "ipython3",
   "version": "3.7.6"
  },
  "papermill": {
   "duration": 547.819352,
   "end_time": "2020-09-14T20:42:28.013872",
   "environment_variables": {},
   "exception": null,
   "input_path": "__notebook__.ipynb",
   "output_path": "__notebook__.ipynb",
   "parameters": {},
   "start_time": "2020-09-14T20:33:20.194520",
   "version": "2.1.0"
  }
 },
 "nbformat": 4,
 "nbformat_minor": 4
}
