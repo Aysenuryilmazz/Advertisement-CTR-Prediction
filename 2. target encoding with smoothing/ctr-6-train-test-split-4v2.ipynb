{
 "cells": [
  {
   "cell_type": "code",
   "execution_count": 1,
   "metadata": {
    "_cell_guid": "b1076dfc-b9ad-4769-8c92-a6c4dae69d19",
    "_uuid": "8f2839f25d086af736a60e9eeb907d3b93b6e0e5",
    "execution": {
     "iopub.execute_input": "2020-09-15T18:27:06.207564Z",
     "iopub.status.busy": "2020-09-15T18:27:06.206626Z",
     "iopub.status.idle": "2020-09-15T18:27:07.585625Z",
     "shell.execute_reply": "2020-09-15T18:27:07.584793Z"
    },
    "papermill": {
     "duration": 1.393445,
     "end_time": "2020-09-15T18:27:07.585754",
     "exception": false,
     "start_time": "2020-09-15T18:27:06.192309",
     "status": "completed"
    },
    "tags": []
   },
   "outputs": [],
   "source": [
    "# import packages\n",
    "import csv\n",
    "import pandas as pd\n",
    "import numpy as np\n",
    "import matplotlib.pyplot as plt\n",
    "from sklearn.preprocessing import LabelEncoder\n",
    "import seaborn as sns\n",
    "import pickle\n",
    "import gzip"
   ]
  },
  {
   "cell_type": "code",
   "execution_count": 2,
   "metadata": {
    "execution": {
     "iopub.execute_input": "2020-09-15T18:27:07.605497Z",
     "iopub.status.busy": "2020-09-15T18:27:07.604654Z",
     "iopub.status.idle": "2020-09-15T18:27:11.911130Z",
     "shell.execute_reply": "2020-09-15T18:27:11.910039Z"
    },
    "papermill": {
     "duration": 4.318202,
     "end_time": "2020-09-15T18:27:11.911302",
     "exception": false,
     "start_time": "2020-09-15T18:27:07.593100",
     "status": "completed"
    },
    "tags": []
   },
   "outputs": [],
   "source": [
    "with open('../input/ctr-read-data/merged_df.pkl', 'rb') as inputfile:\n",
    "    merged_df = pickle.load(inputfile)"
   ]
  },
  {
   "cell_type": "code",
   "execution_count": 3,
   "metadata": {
    "execution": {
     "iopub.execute_input": "2020-09-15T18:27:11.937615Z",
     "iopub.status.busy": "2020-09-15T18:27:11.936512Z",
     "iopub.status.idle": "2020-09-15T18:27:11.940284Z",
     "shell.execute_reply": "2020-09-15T18:27:11.939503Z"
    },
    "papermill": {
     "duration": 0.020342,
     "end_time": "2020-09-15T18:27:11.940408",
     "exception": false,
     "start_time": "2020-09-15T18:27:11.920066",
     "status": "completed"
    },
    "tags": []
   },
   "outputs": [],
   "source": [
    "train_df = merged_df.loc[:40000000, :]\n",
    "test_df = merged_df.loc[40000001:, :]"
   ]
  },
  {
   "cell_type": "code",
   "execution_count": 4,
   "metadata": {
    "execution": {
     "iopub.execute_input": "2020-09-15T18:27:11.964741Z",
     "iopub.status.busy": "2020-09-15T18:27:11.964015Z",
     "iopub.status.idle": "2020-09-15T18:27:11.967390Z",
     "shell.execute_reply": "2020-09-15T18:27:11.966744Z"
    },
    "papermill": {
     "duration": 0.019707,
     "end_time": "2020-09-15T18:27:11.967505",
     "exception": false,
     "start_time": "2020-09-15T18:27:11.947798",
     "status": "completed"
    },
    "tags": []
   },
   "outputs": [],
   "source": [
    "def calc_smooth_mean(df, col, label, mean_label, weight):\n",
    "    # Compute the number of values and the mean of each group\n",
    "    agg = df.groupby(col)[label].agg(['count', 'mean'])\n",
    "    counts = agg['count']\n",
    "    means = agg['mean']\n",
    "\n",
    "    # Compute the \"smoothed\" means\n",
    "    smooth = (counts * means + weight * mean_label) / (counts + weight)\n",
    "\n",
    "    mapping_dict = {key:value for key,value in zip(smooth.index.tolist(),smooth.values.tolist())}\n",
    "    # Replace each value by the according smoothed mean and return mapping dict\n",
    "    return df[col].map(smooth), mapping_dict"
   ]
  },
  {
   "cell_type": "code",
   "execution_count": 5,
   "metadata": {
    "_cell_guid": "79c7e3d0-c299-4dcb-8224-4455121ee9b0",
    "_uuid": "d629ff2d2480ee46fbb7e2d37f6b5fab8052498a",
    "collapsed": true,
    "execution": {
     "iopub.execute_input": "2020-09-15T18:27:11.990416Z",
     "iopub.status.busy": "2020-09-15T18:27:11.989629Z",
     "iopub.status.idle": "2020-09-15T18:28:33.529556Z",
     "shell.execute_reply": "2020-09-15T18:28:33.528752Z"
    },
    "papermill": {
     "duration": 81.55467,
     "end_time": "2020-09-15T18:28:33.529688",
     "exception": false,
     "start_time": "2020-09-15T18:27:11.975018",
     "status": "completed"
    },
    "tags": []
   },
   "outputs": [
    {
     "name": "stderr",
     "output_type": "stream",
     "text": [
      "/opt/conda/lib/python3.7/site-packages/ipykernel_launcher.py:8: SettingWithCopyWarning: \n",
      "A value is trying to be set on a copy of a slice from a DataFrame.\n",
      "Try using .loc[row_indexer,col_indexer] = value instead\n",
      "\n",
      "See the caveats in the documentation: https://pandas.pydata.org/pandas-docs/stable/user_guide/indexing.html#returning-a-view-versus-a-copy\n",
      "  \n"
     ]
    }
   ],
   "source": [
    "# Compute the global mean\n",
    "mean_label = train_df[\"label\"].mean()\n",
    "list_mapping_dict = []\n",
    "\n",
    "for col in train_df.columns.tolist():\n",
    "    encoded, mapping_dict = calc_smooth_mean(train_df, col, \"label\", mean_label, 300)\n",
    "    downcasted = pd.to_numeric(encoded , downcast='float')\n",
    "    train_df[col+'_tenc'] = downcasted\n",
    "    list_mapping_dict.append(mapping_dict)"
   ]
  },
  {
   "cell_type": "code",
   "execution_count": 6,
   "metadata": {
    "execution": {
     "iopub.execute_input": "2020-09-15T18:28:33.552955Z",
     "iopub.status.busy": "2020-09-15T18:28:33.552059Z",
     "iopub.status.idle": "2020-09-15T18:28:33.555368Z",
     "shell.execute_reply": "2020-09-15T18:28:33.554640Z"
    },
    "papermill": {
     "duration": 0.017287,
     "end_time": "2020-09-15T18:28:33.555495",
     "exception": false,
     "start_time": "2020-09-15T18:28:33.538208",
     "status": "completed"
    },
    "tags": []
   },
   "outputs": [],
   "source": [
    "train_df4=train_df.loc[30000001:35000000, :]"
   ]
  },
  {
   "cell_type": "code",
   "execution_count": 7,
   "metadata": {
    "execution": {
     "iopub.execute_input": "2020-09-15T18:28:33.577586Z",
     "iopub.status.busy": "2020-09-15T18:28:33.576580Z",
     "iopub.status.idle": "2020-09-15T18:35:50.256160Z",
     "shell.execute_reply": "2020-09-15T18:35:50.255219Z"
    },
    "papermill": {
     "duration": 436.692502,
     "end_time": "2020-09-15T18:35:50.256361",
     "exception": false,
     "start_time": "2020-09-15T18:28:33.563859",
     "status": "completed"
    },
    "tags": []
   },
   "outputs": [],
   "source": [
    "train_df4.to_csv(\"train_df4\")"
   ]
  }
 ],
 "metadata": {
  "kernelspec": {
   "display_name": "Python 3",
   "language": "python",
   "name": "python3"
  },
  "language_info": {
   "codemirror_mode": {
    "name": "ipython",
    "version": 3
   },
   "file_extension": ".py",
   "mimetype": "text/x-python",
   "name": "python",
   "nbconvert_exporter": "python",
   "pygments_lexer": "ipython3",
   "version": "3.7.6"
  },
  "papermill": {
   "duration": 529.633441,
   "end_time": "2020-09-15T18:35:50.475880",
   "environment_variables": {},
   "exception": null,
   "input_path": "__notebook__.ipynb",
   "output_path": "__notebook__.ipynb",
   "parameters": {},
   "start_time": "2020-09-15T18:27:00.842439",
   "version": "2.1.0"
  }
 },
 "nbformat": 4,
 "nbformat_minor": 4
}
