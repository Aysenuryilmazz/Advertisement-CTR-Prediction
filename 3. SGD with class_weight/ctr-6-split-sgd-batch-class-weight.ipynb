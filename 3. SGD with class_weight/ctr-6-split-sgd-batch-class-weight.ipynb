{
 "cells": [
  {
   "cell_type": "code",
   "execution_count": 1,
   "metadata": {
    "_cell_guid": "b1076dfc-b9ad-4769-8c92-a6c4dae69d19",
    "_uuid": "8f2839f25d086af736a60e9eeb907d3b93b6e0e5",
    "execution": {
     "iopub.execute_input": "2020-09-29T09:45:10.537406Z",
     "iopub.status.busy": "2020-09-29T09:45:10.536557Z",
     "iopub.status.idle": "2020-09-29T09:45:11.849627Z",
     "shell.execute_reply": "2020-09-29T09:45:11.848872Z"
    },
    "papermill": {
     "duration": 1.332195,
     "end_time": "2020-09-29T09:45:11.849783",
     "exception": false,
     "start_time": "2020-09-29T09:45:10.517588",
     "status": "completed"
    },
    "tags": []
   },
   "outputs": [],
   "source": [
    "import pandas as pd\n",
    "import numpy as np\n",
    "from sklearn.model_selection import GridSearchCV\n",
    "from sklearn.linear_model import SGDClassifier\n",
    "from tqdm import tqdm\n",
    "import pickle\n",
    "from sklearn.utils import class_weight\n",
    "from sklearn.metrics import roc_auc_score\n",
    "\n",
    "#import utility functions\n",
    "from utils3 import display_test_scores_v2\n",
    "\n",
    "#hide warnings\n",
    "import warnings\n",
    "warnings.filterwarnings(\"ignore\", category=FutureWarning)"
   ]
  },
  {
   "cell_type": "code",
   "execution_count": 2,
   "metadata": {
    "_cell_guid": "79c7e3d0-c299-4dcb-8224-4455121ee9b0",
    "_uuid": "d629ff2d2480ee46fbb7e2d37f6b5fab8052498a",
    "execution": {
     "iopub.execute_input": "2020-09-29T09:45:11.880376Z",
     "iopub.status.busy": "2020-09-29T09:45:11.879512Z",
     "iopub.status.idle": "2020-09-29T09:45:11.901489Z",
     "shell.execute_reply": "2020-09-29T09:45:11.900780Z"
    },
    "papermill": {
     "duration": 0.042544,
     "end_time": "2020-09-29T09:45:11.901662",
     "exception": false,
     "start_time": "2020-09-29T09:45:11.859118",
     "status": "completed"
    },
    "tags": []
   },
   "outputs": [],
   "source": [
    "dtype_mapping = pd.read_csv(\"../input/ctr-train-test-split-0/dtype_mapping.csv\", index_col=0)\n",
    "dtype_mapping = dtype_mapping.iloc[:,0].to_dict()"
   ]
  },
  {
   "cell_type": "code",
   "execution_count": 3,
   "metadata": {
    "execution": {
     "iopub.execute_input": "2020-09-29T09:45:11.929188Z",
     "iopub.status.busy": "2020-09-29T09:45:11.923824Z",
     "iopub.status.idle": "2020-09-29T09:45:11.940193Z",
     "shell.execute_reply": "2020-09-29T09:45:11.939504Z"
    },
    "papermill": {
     "duration": 0.029444,
     "end_time": "2020-09-29T09:45:11.940341",
     "exception": false,
     "start_time": "2020-09-29T09:45:11.910897",
     "status": "completed"
    },
    "tags": []
   },
   "outputs": [],
   "source": [
    "def read_jackie_chunk(model, csv_path_list, chunksize, dtype_mapping):\n",
    "    for csv_path in csv_path_list:\n",
    "        for chunk in tqdm(pd.read_csv(csv_path, chunksize=chunksize,index_col=0, dtype=dtype_mapping), total=50):\n",
    "            if len(chunk) == 1:\n",
    "                continue\n",
    "            chunk = chunk.drop(columns=[chunk.columns[i] for i in range(1,38)])\n",
    "            chunk = chunk.dropna()\n",
    "            y = chunk[\"label\"]\n",
    "            # drop uid_tenc also\n",
    "            X = chunk.iloc[:, 1:]\n",
    "            # drop pt_d_tenc also\n",
    "            X = X.drop(columns=[\"pt_d_tenc\"])\n",
    "            \n",
    "            # class weight technique 1: compute_class_weight \n",
    "            weights = class_weight.compute_class_weight(\"balanced\", np.array([0,1]), y)\n",
    "            weights_dict = {key: value for key,value in zip(list(range(len(weights))),list(weights))}\n",
    "           \n",
    "            # class weight technique 2: counts to length ratio\n",
    "            #weights = len(y) / y.value_counts()\n",
    "            #weights_dict = weights.to_dict()\n",
    "            \n",
    "            # class weight technique 3: smoothen weights (log)\n",
    "            #mu = 0.15\n",
    "            #labels_dict = y.value_counts().to_dict()\n",
    "            #weights_dict = dict()\n",
    "            #for key in labels_dict.keys():\n",
    "            #    score = np.log(mu*len(y)/float(labels_dict[key]))\n",
    "            #    weights_dict[key] = score if score > 1 else 1\n",
    "            \n",
    "            model.set_params(class_weight=weights_dict)\n",
    "            model = model.partial_fit(X,y, classes = np.array([0,1]))\n",
    "    return model"
   ]
  },
  {
   "cell_type": "code",
   "execution_count": 4,
   "metadata": {
    "execution": {
     "iopub.execute_input": "2020-09-29T09:45:11.989884Z",
     "iopub.status.busy": "2020-09-29T09:45:11.988628Z",
     "iopub.status.idle": "2020-09-29T09:53:09.935066Z",
     "shell.execute_reply": "2020-09-29T09:53:09.932990Z"
    },
    "papermill": {
     "duration": 477.986055,
     "end_time": "2020-09-29T09:53:09.935867",
     "exception": false,
     "start_time": "2020-09-29T09:45:11.949812",
     "status": "completed"
    },
    "tags": []
   },
   "outputs": [
    {
     "name": "stderr",
     "output_type": "stream",
     "text": [
      "51it [01:03,  1.25s/it]                        \n",
      "100%|██████████| 50/50 [00:59<00:00,  1.19s/it]\n",
      "100%|██████████| 50/50 [00:58<00:00,  1.18s/it]\n",
      "100%|██████████| 50/50 [00:59<00:00,  1.18s/it]\n",
      "100%|██████████| 50/50 [00:58<00:00,  1.17s/it]\n",
      "100%|██████████| 50/50 [00:59<00:00,  1.19s/it]\n",
      "100%|██████████| 50/50 [00:58<00:00,  1.18s/it]\n",
      "100%|██████████| 50/50 [01:00<00:00,  1.20s/it]\n"
     ]
    }
   ],
   "source": [
    "csv_path_list = ['../input/ctr-train-test-split-1/train_df1.csv',\n",
    "                '../input/ctr-train-test-split-1-5/train_df1_5.csv',\n",
    "                 '../input/ctr-train-test-split-2/train_df3.csv',\n",
    "                '../input/ctr-train-test-split-2-5/train_df2_5.csv',\n",
    "                 '../input/ctr-train-test-split-3/train_df3.csv',\n",
    "                 '../input/ctr-train-test-split-3-5/train_df3_5.csv',\n",
    "                 '../input/ctr-train-test-split-4v2/train_df4',\n",
    "                 '../input/ctr-train-test-split-4-5/train_df4_5'\n",
    "                ]\n",
    "\n",
    "chunksize = 10 ** 5\n",
    "\n",
    "model = SGDClassifier(loss = \"log\", n_jobs = -1, random_state = 0, warm_start = True)\n",
    "\n",
    "model_final = read_jackie_chunk(model, csv_path_list, chunksize, dtype_mapping)"
   ]
  },
  {
   "cell_type": "code",
   "execution_count": 5,
   "metadata": {
    "execution": {
     "iopub.execute_input": "2020-09-29T09:53:10.306909Z",
     "iopub.status.busy": "2020-09-29T09:53:10.306015Z",
     "iopub.status.idle": "2020-09-29T09:53:31.045718Z",
     "shell.execute_reply": "2020-09-29T09:53:31.045079Z"
    },
    "papermill": {
     "duration": 20.933717,
     "end_time": "2020-09-29T09:53:31.045858",
     "exception": false,
     "start_time": "2020-09-29T09:53:10.112141",
     "status": "completed"
    },
    "tags": []
   },
   "outputs": [
    {
     "name": "stderr",
     "output_type": "stream",
     "text": [
      "100%|██████████| 20/20 [00:20<00:00,  1.04s/it]\n"
     ]
    }
   ],
   "source": [
    "pred_list=[]\n",
    "y_test_list=[]\n",
    "for chunk in tqdm(pd.read_csv('../input/ctr-train-test-split-0/test_df.csv', chunksize=chunksize,index_col=0, dtype=dtype_mapping), total=20):\n",
    "    chunk = chunk.drop(columns=[chunk.columns[i] for i in range(1,38)])\n",
    "    chunk = chunk.dropna()\n",
    "    y = chunk[\"label\"]\n",
    "    # drop uid_tenc also\n",
    "    X = chunk.iloc[:, 1:]\n",
    "    # drop pt_d_tenc also\n",
    "    X = X.drop(columns=[\"pt_d_tenc\"])\n",
    "    y_pred = model_final.predict_proba(X)\n",
    "    pred_list.append(y_pred)\n",
    "    y_test_list.append(y)"
   ]
  },
  {
   "cell_type": "code",
   "execution_count": 6,
   "metadata": {
    "execution": {
     "iopub.execute_input": "2020-09-29T09:53:31.425155Z",
     "iopub.status.busy": "2020-09-29T09:53:31.424068Z",
     "iopub.status.idle": "2020-09-29T09:53:31.427199Z",
     "shell.execute_reply": "2020-09-29T09:53:31.426375Z"
    },
    "papermill": {
     "duration": 0.195326,
     "end_time": "2020-09-29T09:53:31.427330",
     "exception": false,
     "start_time": "2020-09-29T09:53:31.232004",
     "status": "completed"
    },
    "tags": []
   },
   "outputs": [],
   "source": [
    "def display_test_scores(test, pred):\n",
    "    str_out = \"\"\n",
    "    str_out += (\"TEST SCORES\\n\")\n",
    "    str_out += (\"\\n\")\n",
    "\n",
    "    #print AUC score\n",
    "    auc = roc_auc_score(test, pred)\n",
    "    str_out += (\"AUC: {:.4f}\\n\".format(auc))\n",
    "    str_out += (\"\\n\")\n",
    "    \n",
    "    false_indexes = np.where(test != pred)\n",
    "    return str_out, false_indexes"
   ]
  },
  {
   "cell_type": "code",
   "execution_count": 7,
   "metadata": {
    "execution": {
     "iopub.execute_input": "2020-09-29T09:53:31.803331Z",
     "iopub.status.busy": "2020-09-29T09:53:31.802525Z",
     "iopub.status.idle": "2020-09-29T09:53:32.635678Z",
     "shell.execute_reply": "2020-09-29T09:53:32.634554Z"
    },
    "papermill": {
     "duration": 1.023935,
     "end_time": "2020-09-29T09:53:32.635839",
     "exception": false,
     "start_time": "2020-09-29T09:53:31.611904",
     "status": "completed"
    },
    "tags": []
   },
   "outputs": [
    {
     "name": "stdout",
     "output_type": "stream",
     "text": [
      "TEST SCORES\n",
      "\n",
      "AUC: 0.7036\n",
      "\n",
      "\n"
     ]
    }
   ],
   "source": [
    "pred_array = np.concatenate(pred_list)\n",
    "y_test = pd.concat(y_test_list)\n",
    "results, false = display_test_scores(y_test, pred_array[:,1])\n",
    "print(results)"
   ]
  },
  {
   "cell_type": "code",
   "execution_count": 8,
   "metadata": {
    "execution": {
     "iopub.execute_input": "2020-09-29T09:53:33.020356Z",
     "iopub.status.busy": "2020-09-29T09:53:33.019425Z",
     "iopub.status.idle": "2020-09-29T09:53:54.877231Z",
     "shell.execute_reply": "2020-09-29T09:53:54.876376Z"
    },
    "papermill": {
     "duration": 22.056804,
     "end_time": "2020-09-29T09:53:54.877367",
     "exception": false,
     "start_time": "2020-09-29T09:53:32.820563",
     "status": "completed"
    },
    "tags": []
   },
   "outputs": [
    {
     "name": "stderr",
     "output_type": "stream",
     "text": [
      "100%|██████████| 20/20 [00:21<00:00,  1.09s/it]\n"
     ]
    }
   ],
   "source": [
    "# train whole dataset (including test_df.csv)\n",
    "for chunk in tqdm(pd.read_csv('../input/ctr-train-test-split-0/test_df.csv', chunksize=chunksize,index_col=0, dtype=dtype_mapping), total=20):\n",
    "    chunk = chunk.drop(columns=[chunk.columns[i] for i in range(1,38)])\n",
    "    chunk = chunk.dropna()\n",
    "    y = chunk[\"label\"]\n",
    "    # drop uid_tenc also\n",
    "    X = chunk.iloc[:, 1:]\n",
    "    # drop pt_d_tenc also\n",
    "    X = X.drop(columns=[\"pt_d_tenc\"])\n",
    "    # class weight technique 1: compute_class_weight \n",
    "    weights = class_weight.compute_class_weight(\"balanced\", np.array([0,1]), y)\n",
    "    weights_dict = {key: value for key,value in zip(list(range(len(weights))),list(weights))}\n",
    "    model.set_params(class_weight=weights_dict)\n",
    "    model_final_final = model_final.partial_fit(X,y, classes = np.array([0,1]))"
   ]
  },
  {
   "cell_type": "code",
   "execution_count": 9,
   "metadata": {
    "execution": {
     "iopub.execute_input": "2020-09-29T09:53:55.272254Z",
     "iopub.status.busy": "2020-09-29T09:53:55.270922Z",
     "iopub.status.idle": "2020-09-29T09:53:55.275315Z",
     "shell.execute_reply": "2020-09-29T09:53:55.274564Z"
    },
    "papermill": {
     "duration": 0.20419,
     "end_time": "2020-09-29T09:53:55.275448",
     "exception": false,
     "start_time": "2020-09-29T09:53:55.071258",
     "status": "completed"
    },
    "tags": []
   },
   "outputs": [],
   "source": [
    "# save model to file\n",
    "pickle.dump(model_final_final, open(\"sgd_model.pkl\", \"wb\"))"
   ]
  }
 ],
 "metadata": {
  "kernelspec": {
   "display_name": "Python 3",
   "language": "python",
   "name": "python3"
  },
  "language_info": {
   "codemirror_mode": {
    "name": "ipython",
    "version": 3
   },
   "file_extension": ".py",
   "mimetype": "text/x-python",
   "name": "python",
   "nbconvert_exporter": "python",
   "pygments_lexer": "ipython3",
   "version": "3.7.6"
  },
  "papermill": {
   "duration": 530.482315,
   "end_time": "2020-09-29T09:53:55.583269",
   "environment_variables": {},
   "exception": null,
   "input_path": "__notebook__.ipynb",
   "output_path": "__notebook__.ipynb",
   "parameters": {},
   "start_time": "2020-09-29T09:45:05.100954",
   "version": "2.1.0"
  }
 },
 "nbformat": 4,
 "nbformat_minor": 4
}
