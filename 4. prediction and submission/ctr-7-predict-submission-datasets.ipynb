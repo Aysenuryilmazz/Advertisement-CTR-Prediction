{
 "cells": [
  {
   "cell_type": "code",
   "execution_count": 1,
   "metadata": {
    "execution": {
     "iopub.execute_input": "2020-09-29T12:40:24.247513Z",
     "iopub.status.busy": "2020-09-29T12:40:24.246897Z",
     "iopub.status.idle": "2020-09-29T12:40:25.330185Z",
     "shell.execute_reply": "2020-09-29T12:40:25.329137Z"
    },
    "papermill": {
     "duration": 1.09783,
     "end_time": "2020-09-29T12:40:25.330324",
     "exception": false,
     "start_time": "2020-09-29T12:40:24.232494",
     "status": "completed"
    },
    "tags": []
   },
   "outputs": [],
   "source": [
    "# import packages\n",
    "import csv\n",
    "import pandas as pd\n",
    "import numpy as np\n",
    "import matplotlib.pyplot as plt\n",
    "from sklearn.preprocessing import LabelEncoder\n",
    "import seaborn as sns\n",
    "import pickle\n",
    "import gzip\n",
    "import json"
   ]
  },
  {
   "cell_type": "code",
   "execution_count": 2,
   "metadata": {
    "execution": {
     "iopub.execute_input": "2020-09-29T12:40:25.352524Z",
     "iopub.status.busy": "2020-09-29T12:40:25.351716Z",
     "iopub.status.idle": "2020-09-29T12:40:28.163594Z",
     "shell.execute_reply": "2020-09-29T12:40:28.162440Z"
    },
    "papermill": {
     "duration": 2.82452,
     "end_time": "2020-09-29T12:40:28.163746",
     "exception": false,
     "start_time": "2020-09-29T12:40:25.339226",
     "status": "completed"
    },
    "tags": []
   },
   "outputs": [],
   "source": [
    "with open('../input/2020-digix-advertisement-ctr-prediction/test_data_B.csv', 'rb') as inputfile:\n",
    "    test_B = pd.read_csv(inputfile, sep='|',index_col=0)"
   ]
  },
  {
   "cell_type": "code",
   "execution_count": 3,
   "metadata": {
    "execution": {
     "iopub.execute_input": "2020-09-29T12:40:28.186198Z",
     "iopub.status.busy": "2020-09-29T12:40:28.185294Z",
     "iopub.status.idle": "2020-09-29T12:40:29.317619Z",
     "shell.execute_reply": "2020-09-29T12:40:29.318208Z"
    },
    "papermill": {
     "duration": 1.145943,
     "end_time": "2020-09-29T12:40:29.318398",
     "exception": false,
     "start_time": "2020-09-29T12:40:28.172455",
     "status": "completed"
    },
    "tags": []
   },
   "outputs": [],
   "source": [
    "with open('../input/ctr-6-train-test-split-0/list_mapping_dict.json', 'rb') as inputfile2:\n",
    "    list_mapping_dict = json.load(inputfile2)"
   ]
  },
  {
   "cell_type": "code",
   "execution_count": 4,
   "metadata": {
    "execution": {
     "iopub.execute_input": "2020-09-29T12:40:29.350213Z",
     "iopub.status.busy": "2020-09-29T12:40:29.349131Z",
     "iopub.status.idle": "2020-09-29T12:40:29.517574Z",
     "shell.execute_reply": "2020-09-29T12:40:29.518471Z"
    },
    "papermill": {
     "duration": 0.186112,
     "end_time": "2020-09-29T12:40:29.518625",
     "exception": false,
     "start_time": "2020-09-29T12:40:29.332513",
     "status": "completed"
    },
    "tags": []
   },
   "outputs": [],
   "source": [
    "with open('../input/ctr-6-split-sgd-batch-class-weight/sgd_model.pkl', 'rb') as inputfile3:\n",
    "    sgd_model = pickle.load(inputfile3)"
   ]
  },
  {
   "cell_type": "code",
   "execution_count": 5,
   "metadata": {
    "execution": {
     "iopub.execute_input": "2020-09-29T12:40:29.570438Z",
     "iopub.status.busy": "2020-09-29T12:40:29.565403Z",
     "iopub.status.idle": "2020-09-29T12:40:29.815722Z",
     "shell.execute_reply": "2020-09-29T12:40:29.815115Z"
    },
    "papermill": {
     "duration": 0.288129,
     "end_time": "2020-09-29T12:40:29.815851",
     "exception": false,
     "start_time": "2020-09-29T12:40:29.527722",
     "status": "completed"
    },
    "tags": []
   },
   "outputs": [],
   "source": [
    "# fix mapping dict (convert keys to integer)\n",
    "list_mapping_dict_fixed = []\n",
    "for i, mapping_dict in enumerate(list_mapping_dict):\n",
    "    if i==32:\n",
    "        list_mapping_dict_fixed.append(mapping_dict)\n",
    "        continue\n",
    "    mapping_dict_fixed = {int(k):v for k,v in mapping_dict.items()}\n",
    "    list_mapping_dict_fixed.append(mapping_dict_fixed)"
   ]
  },
  {
   "cell_type": "code",
   "execution_count": 6,
   "metadata": {
    "execution": {
     "iopub.execute_input": "2020-09-29T12:40:29.842572Z",
     "iopub.status.busy": "2020-09-29T12:40:29.842009Z",
     "iopub.status.idle": "2020-09-29T12:40:29.850126Z",
     "shell.execute_reply": "2020-09-29T12:40:29.850531Z"
    },
    "papermill": {
     "duration": 0.025774,
     "end_time": "2020-09-29T12:40:29.850672",
     "exception": false,
     "start_time": "2020-09-29T12:40:29.824898",
     "status": "completed"
    },
    "tags": []
   },
   "outputs": [],
   "source": [
    "testvalues = np.sort(test_B[\"task_id\"].unique()).tolist()"
   ]
  },
  {
   "cell_type": "code",
   "execution_count": 7,
   "metadata": {
    "execution": {
     "iopub.execute_input": "2020-09-29T12:40:29.875137Z",
     "iopub.status.busy": "2020-09-29T12:40:29.874211Z",
     "iopub.status.idle": "2020-09-29T12:40:29.876803Z",
     "shell.execute_reply": "2020-09-29T12:40:29.876219Z"
    },
    "papermill": {
     "duration": 0.016026,
     "end_time": "2020-09-29T12:40:29.876914",
     "exception": false,
     "start_time": "2020-09-29T12:40:29.860888",
     "status": "completed"
    },
    "tags": []
   },
   "outputs": [],
   "source": [
    "map_values=list(list_mapping_dict_fixed[2].keys())"
   ]
  },
  {
   "cell_type": "code",
   "execution_count": 8,
   "metadata": {
    "execution": {
     "iopub.execute_input": "2020-09-29T12:40:29.924899Z",
     "iopub.status.busy": "2020-09-29T12:40:29.914344Z",
     "iopub.status.idle": "2020-09-29T12:40:30.002102Z",
     "shell.execute_reply": "2020-09-29T12:40:30.001417Z"
    },
    "papermill": {
     "duration": 0.116141,
     "end_time": "2020-09-29T12:40:30.002222",
     "exception": false,
     "start_time": "2020-09-29T12:40:29.886081",
     "status": "completed"
    },
    "tags": []
   },
   "outputs": [
    {
     "data": {
      "text/plain": [
       "2737"
      ]
     },
     "execution_count": 8,
     "metadata": {},
     "output_type": "execute_result"
    }
   ],
   "source": [
    "map_minus_test = [i for i in map_values if i not in testvalues]\n",
    "len(map_minus_test)"
   ]
  },
  {
   "cell_type": "code",
   "execution_count": 9,
   "metadata": {
    "execution": {
     "iopub.execute_input": "2020-09-29T12:40:30.040349Z",
     "iopub.status.busy": "2020-09-29T12:40:30.035414Z",
     "iopub.status.idle": "2020-09-29T12:40:30.120158Z",
     "shell.execute_reply": "2020-09-29T12:40:30.120700Z"
    },
    "papermill": {
     "duration": 0.108783,
     "end_time": "2020-09-29T12:40:30.120890",
     "exception": false,
     "start_time": "2020-09-29T12:40:30.012107",
     "status": "completed"
    },
    "tags": []
   },
   "outputs": [
    {
     "data": {
      "text/plain": [
       "574"
      ]
     },
     "execution_count": 9,
     "metadata": {},
     "output_type": "execute_result"
    }
   ],
   "source": [
    "test_minus_map = [i for i in testvalues if i not in map_values]\n",
    "len(test_minus_map)"
   ]
  },
  {
   "cell_type": "code",
   "execution_count": 10,
   "metadata": {
    "_cell_guid": "b1076dfc-b9ad-4769-8c92-a6c4dae69d19",
    "_uuid": "8f2839f25d086af736a60e9eeb907d3b93b6e0e5",
    "execution": {
     "iopub.execute_input": "2020-09-29T12:40:31.482748Z",
     "iopub.status.busy": "2020-09-29T12:40:31.481612Z",
     "iopub.status.idle": "2020-09-29T12:40:32.185356Z",
     "shell.execute_reply": "2020-09-29T12:40:32.184825Z"
    },
    "papermill": {
     "duration": 2.047917,
     "end_time": "2020-09-29T12:40:32.185465",
     "exception": false,
     "start_time": "2020-09-29T12:40:30.137548",
     "status": "completed"
    },
    "tags": []
   },
   "outputs": [],
   "source": [
    "for i, col in enumerate(test_B.columns.tolist()):\n",
    "    encoded=test_B[col].map(list_mapping_dict_fixed[i+1])\n",
    "    downcasted = pd.to_numeric(encoded , downcast='float')\n",
    "    test_B[col+'_tenc']=downcasted"
   ]
  },
  {
   "cell_type": "code",
   "execution_count": 11,
   "metadata": {
    "execution": {
     "iopub.execute_input": "2020-09-29T12:40:32.212751Z",
     "iopub.status.busy": "2020-09-29T12:40:32.211034Z",
     "iopub.status.idle": "2020-09-29T12:40:32.588593Z",
     "shell.execute_reply": "2020-09-29T12:40:32.587397Z"
    },
    "papermill": {
     "duration": 0.393155,
     "end_time": "2020-09-29T12:40:32.588724",
     "exception": false,
     "start_time": "2020-09-29T12:40:32.195569",
     "status": "completed"
    },
    "tags": []
   },
   "outputs": [
    {
     "name": "stdout",
     "output_type": "stream",
     "text": [
      "<class 'pandas.core.frame.DataFrame'>\n",
      "Int64Index: 1000000 entries, 1 to 1000000\n",
      "Data columns (total 70 columns):\n",
      " #   Column                            Non-Null Count    Dtype  \n",
      "---  ------                            --------------    -----  \n",
      " 0   uid                               1000000 non-null  int64  \n",
      " 1   task_id                           1000000 non-null  int64  \n",
      " 2   adv_id                            1000000 non-null  int64  \n",
      " 3   creat_type_cd                     1000000 non-null  int64  \n",
      " 4   adv_prim_id                       1000000 non-null  int64  \n",
      " 5   dev_id                            1000000 non-null  int64  \n",
      " 6   inter_type_cd                     1000000 non-null  int64  \n",
      " 7   slot_id                           1000000 non-null  int64  \n",
      " 8   spread_app_id                     1000000 non-null  int64  \n",
      " 9   tags                              1000000 non-null  int64  \n",
      " 10  app_first_class                   1000000 non-null  int64  \n",
      " 11  app_second_class                  1000000 non-null  int64  \n",
      " 12  age                               1000000 non-null  int64  \n",
      " 13  city                              1000000 non-null  int64  \n",
      " 14  city_rank                         1000000 non-null  int64  \n",
      " 15  device_name                       1000000 non-null  int64  \n",
      " 16  device_size                       1000000 non-null  int64  \n",
      " 17  career                            1000000 non-null  int64  \n",
      " 18  gender                            1000000 non-null  int64  \n",
      " 19  net_type                          1000000 non-null  int64  \n",
      " 20  residence                         1000000 non-null  int64  \n",
      " 21  his_app_size                      1000000 non-null  int64  \n",
      " 22  his_on_shelf_time                 1000000 non-null  int64  \n",
      " 23  app_score                         1000000 non-null  int64  \n",
      " 24  emui_dev                          1000000 non-null  int64  \n",
      " 25  list_time                         1000000 non-null  int64  \n",
      " 26  device_price                      1000000 non-null  int64  \n",
      " 27  up_life_duration                  1000000 non-null  int64  \n",
      " 28  up_membership_grade               1000000 non-null  int64  \n",
      " 29  membership_life_duration          1000000 non-null  int64  \n",
      " 30  consume_purchase                  1000000 non-null  int64  \n",
      " 31  communication_onlinerate          1000000 non-null  object \n",
      " 32  communication_avgonline_30d       1000000 non-null  int64  \n",
      " 33  indu_name                         1000000 non-null  int64  \n",
      " 34  pt_d                              1000000 non-null  int64  \n",
      " 35  uid_tenc                          787146 non-null   float32\n",
      " 36  task_id_tenc                      754768 non-null   float32\n",
      " 37  adv_id_tenc                       754768 non-null   float32\n",
      " 38  creat_type_cd_tenc                1000000 non-null  float32\n",
      " 39  adv_prim_id_tenc                  922393 non-null   float32\n",
      " 40  dev_id_tenc                       939419 non-null   float32\n",
      " 41  inter_type_cd_tenc                1000000 non-null  float32\n",
      " 42  slot_id_tenc                      1000000 non-null  float32\n",
      " 43  spread_app_id_tenc                928592 non-null   float32\n",
      " 44  tags_tenc                         977076 non-null   float32\n",
      " 45  app_first_class_tenc              1000000 non-null  float32\n",
      " 46  app_second_class_tenc             1000000 non-null  float32\n",
      " 47  age_tenc                          1000000 non-null  float32\n",
      " 48  city_tenc                         1000000 non-null  float32\n",
      " 49  city_rank_tenc                    1000000 non-null  float32\n",
      " 50  device_name_tenc                  999996 non-null   float32\n",
      " 51  device_size_tenc                  999995 non-null   float32\n",
      " 52  career_tenc                       1000000 non-null  float32\n",
      " 53  gender_tenc                       1000000 non-null  float32\n",
      " 54  net_type_tenc                     1000000 non-null  float32\n",
      " 55  residence_tenc                    1000000 non-null  float32\n",
      " 56  his_app_size_tenc                 1000000 non-null  float32\n",
      " 57  his_on_shelf_time_tenc            1000000 non-null  float32\n",
      " 58  app_score_tenc                    1000000 non-null  float32\n",
      " 59  emui_dev_tenc                     1000000 non-null  float32\n",
      " 60  list_time_tenc                    1000000 non-null  float32\n",
      " 61  device_price_tenc                 1000000 non-null  float32\n",
      " 62  up_life_duration_tenc             1000000 non-null  float32\n",
      " 63  up_membership_grade_tenc          1000000 non-null  float32\n",
      " 64  membership_life_duration_tenc     1000000 non-null  float32\n",
      " 65  consume_purchase_tenc             1000000 non-null  float32\n",
      " 66  communication_onlinerate_tenc     999648 non-null   float32\n",
      " 67  communication_avgonline_30d_tenc  1000000 non-null  float32\n",
      " 68  indu_name_tenc                    996763 non-null   float32\n",
      " 69  pt_d_tenc                         0 non-null        float32\n",
      "dtypes: float32(35), int64(34), object(1)\n",
      "memory usage: 408.2+ MB\n"
     ]
    }
   ],
   "source": [
    "test_B.info()"
   ]
  },
  {
   "cell_type": "code",
   "execution_count": 12,
   "metadata": {
    "execution": {
     "iopub.execute_input": "2020-09-29T12:40:32.755489Z",
     "iopub.status.busy": "2020-09-29T12:40:32.754869Z",
     "iopub.status.idle": "2020-09-29T12:40:32.757893Z",
     "shell.execute_reply": "2020-09-29T12:40:32.757439Z"
    },
    "papermill": {
     "duration": 0.158835,
     "end_time": "2020-09-29T12:40:32.758008",
     "exception": false,
     "start_time": "2020-09-29T12:40:32.599173",
     "status": "completed"
    },
    "tags": []
   },
   "outputs": [],
   "source": [
    "#drop original cols\n",
    "test_B = test_B.drop(columns=[test_B.columns[i] for i in range(0,36)])\n",
    "#drop pt_d_tenc         \n",
    "test_B = test_B.drop(columns=[\"pt_d_tenc\"])"
   ]
  },
  {
   "cell_type": "code",
   "execution_count": 13,
   "metadata": {
    "execution": {
     "iopub.execute_input": "2020-09-29T12:40:32.783842Z",
     "iopub.status.busy": "2020-09-29T12:40:32.783221Z",
     "iopub.status.idle": "2020-09-29T12:40:32.841963Z",
     "shell.execute_reply": "2020-09-29T12:40:32.842355Z"
    },
    "papermill": {
     "duration": 0.07414,
     "end_time": "2020-09-29T12:40:32.842500",
     "exception": false,
     "start_time": "2020-09-29T12:40:32.768360",
     "status": "completed"
    },
    "tags": []
   },
   "outputs": [
    {
     "data": {
      "text/plain": [
       "task_id_tenc                        245232\n",
       "adv_id_tenc                         245232\n",
       "creat_type_cd_tenc                       0\n",
       "adv_prim_id_tenc                     77607\n",
       "dev_id_tenc                          60581\n",
       "inter_type_cd_tenc                       0\n",
       "slot_id_tenc                             0\n",
       "spread_app_id_tenc                   71408\n",
       "tags_tenc                            22924\n",
       "app_first_class_tenc                     0\n",
       "app_second_class_tenc                    0\n",
       "age_tenc                                 0\n",
       "city_tenc                                0\n",
       "city_rank_tenc                           0\n",
       "device_name_tenc                         4\n",
       "device_size_tenc                         5\n",
       "career_tenc                              0\n",
       "gender_tenc                              0\n",
       "net_type_tenc                            0\n",
       "residence_tenc                           0\n",
       "his_app_size_tenc                        0\n",
       "his_on_shelf_time_tenc                   0\n",
       "app_score_tenc                           0\n",
       "emui_dev_tenc                            0\n",
       "list_time_tenc                           0\n",
       "device_price_tenc                        0\n",
       "up_life_duration_tenc                    0\n",
       "up_membership_grade_tenc                 0\n",
       "membership_life_duration_tenc            0\n",
       "consume_purchase_tenc                    0\n",
       "communication_onlinerate_tenc          352\n",
       "communication_avgonline_30d_tenc         0\n",
       "indu_name_tenc                        3237\n",
       "dtype: int64"
      ]
     },
     "execution_count": 13,
     "metadata": {},
     "output_type": "execute_result"
    }
   ],
   "source": [
    "test_B.isna().sum()"
   ]
  },
  {
   "cell_type": "code",
   "execution_count": 14,
   "metadata": {
    "execution": {
     "iopub.execute_input": "2020-09-29T12:40:32.869489Z",
     "iopub.status.busy": "2020-09-29T12:40:32.868934Z",
     "iopub.status.idle": "2020-09-29T12:40:32.992584Z",
     "shell.execute_reply": "2020-09-29T12:40:32.991992Z"
    },
    "papermill": {
     "duration": 0.139129,
     "end_time": "2020-09-29T12:40:32.992694",
     "exception": false,
     "start_time": "2020-09-29T12:40:32.853565",
     "status": "completed"
    },
    "tags": []
   },
   "outputs": [],
   "source": [
    "#fill na\n",
    "for col_name in test_B.columns: \n",
    "    test_B[col_name].fillna(test_B[col_name].mean(), inplace=True)"
   ]
  },
  {
   "cell_type": "code",
   "execution_count": 15,
   "metadata": {
    "execution": {
     "iopub.execute_input": "2020-09-29T12:40:33.019474Z",
     "iopub.status.busy": "2020-09-29T12:40:33.018883Z",
     "iopub.status.idle": "2020-09-29T12:40:33.077864Z",
     "shell.execute_reply": "2020-09-29T12:40:33.077400Z"
    },
    "papermill": {
     "duration": 0.074233,
     "end_time": "2020-09-29T12:40:33.077977",
     "exception": false,
     "start_time": "2020-09-29T12:40:33.003744",
     "status": "completed"
    },
    "tags": []
   },
   "outputs": [
    {
     "data": {
      "text/plain": [
       "task_id_tenc                        0\n",
       "adv_id_tenc                         0\n",
       "creat_type_cd_tenc                  0\n",
       "adv_prim_id_tenc                    0\n",
       "dev_id_tenc                         0\n",
       "inter_type_cd_tenc                  0\n",
       "slot_id_tenc                        0\n",
       "spread_app_id_tenc                  0\n",
       "tags_tenc                           0\n",
       "app_first_class_tenc                0\n",
       "app_second_class_tenc               0\n",
       "age_tenc                            0\n",
       "city_tenc                           0\n",
       "city_rank_tenc                      0\n",
       "device_name_tenc                    0\n",
       "device_size_tenc                    0\n",
       "career_tenc                         0\n",
       "gender_tenc                         0\n",
       "net_type_tenc                       0\n",
       "residence_tenc                      0\n",
       "his_app_size_tenc                   0\n",
       "his_on_shelf_time_tenc              0\n",
       "app_score_tenc                      0\n",
       "emui_dev_tenc                       0\n",
       "list_time_tenc                      0\n",
       "device_price_tenc                   0\n",
       "up_life_duration_tenc               0\n",
       "up_membership_grade_tenc            0\n",
       "membership_life_duration_tenc       0\n",
       "consume_purchase_tenc               0\n",
       "communication_onlinerate_tenc       0\n",
       "communication_avgonline_30d_tenc    0\n",
       "indu_name_tenc                      0\n",
       "dtype: int64"
      ]
     },
     "execution_count": 15,
     "metadata": {},
     "output_type": "execute_result"
    }
   ],
   "source": [
    "test_B.isna().sum()"
   ]
  },
  {
   "cell_type": "code",
   "execution_count": 16,
   "metadata": {
    "_cell_guid": "79c7e3d0-c299-4dcb-8224-4455121ee9b0",
    "_uuid": "d629ff2d2480ee46fbb7e2d37f6b5fab8052498a",
    "execution": {
     "iopub.execute_input": "2020-09-29T12:40:33.114545Z",
     "iopub.status.busy": "2020-09-29T12:40:33.113462Z",
     "iopub.status.idle": "2020-09-29T12:40:33.348332Z",
     "shell.execute_reply": "2020-09-29T12:40:33.347825Z"
    },
    "papermill": {
     "duration": 0.2569,
     "end_time": "2020-09-29T12:40:33.348459",
     "exception": false,
     "start_time": "2020-09-29T12:40:33.091559",
     "status": "completed"
    },
    "tags": []
   },
   "outputs": [],
   "source": [
    "# predictions\n",
    "y_pred = sgd_model.predict_proba(test_B)\n",
    "submission_arr = y_pred[:,1].round(decimals=6)\n",
    "id_arr = np.arange(1,len(submission_arr))"
   ]
  },
  {
   "cell_type": "code",
   "execution_count": 17,
   "metadata": {
    "execution": {
     "iopub.execute_input": "2020-09-29T12:40:33.587910Z",
     "iopub.status.busy": "2020-09-29T12:40:33.587285Z",
     "iopub.status.idle": "2020-09-29T12:40:36.436055Z",
     "shell.execute_reply": "2020-09-29T12:40:36.435479Z"
    },
    "papermill": {
     "duration": 3.07631,
     "end_time": "2020-09-29T12:40:36.436180",
     "exception": false,
     "start_time": "2020-09-29T12:40:33.359870",
     "status": "completed"
    },
    "tags": []
   },
   "outputs": [],
   "source": [
    "# export submission\n",
    "submissiondf=pd.DataFrame(zip(id_arr,submission_arr),columns=[\"id\",\"probability\"])\n",
    "submissiondf.to_csv(\"submission.csv\",index=False)"
   ]
  }
 ],
 "metadata": {
  "kernelspec": {
   "display_name": "Python 3",
   "language": "python",
   "name": "python3"
  },
  "language_info": {
   "codemirror_mode": {
    "name": "ipython",
    "version": 3
   },
   "file_extension": ".py",
   "mimetype": "text/x-python",
   "name": "python",
   "nbconvert_exporter": "python",
   "pygments_lexer": "ipython3",
   "version": "3.7.6"
  },
  "papermill": {
   "duration": 16.617996,
   "end_time": "2020-09-29T12:40:36.555302",
   "environment_variables": {},
   "exception": null,
   "input_path": "__notebook__.ipynb",
   "output_path": "__notebook__.ipynb",
   "parameters": {},
   "start_time": "2020-09-29T12:40:19.937306",
   "version": "2.1.0"
  }
 },
 "nbformat": 4,
 "nbformat_minor": 4
}
